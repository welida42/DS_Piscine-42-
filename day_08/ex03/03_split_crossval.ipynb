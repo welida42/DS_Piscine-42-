{
 "cells": [
  {
   "cell_type": "markdown",
   "metadata": {},
   "source": [
    "# Day 08. Exercise 03\n",
    "# Overfitting"
   ]
  },
  {
   "cell_type": "markdown",
   "metadata": {},
   "source": [
    "## 0. Imports"
   ]
  },
  {
   "cell_type": "code",
   "execution_count": 1,
   "metadata": {},
   "outputs": [],
   "source": [
    "import pandas as pd\n",
    "import sqlite3\n",
    "import numpy as np\n",
    "import matplotlib.pyplot as plt\n",
    "import seaborn as sns\n",
    "import sklearn\n",
    "from sklearn.linear_model import LogisticRegression\n",
    "from sklearn.tree import DecisionTreeClassifier\n",
    "from sklearn import svm\n",
    "from sklearn.metrics import accuracy_score\n",
    "from sklearn.model_selection import train_test_split\n",
    "\n",
    "from sklearn.preprocessing import StandardScaler, OneHotEncoder\n",
    "from sklearn.dummy import DummyClassifier\n",
    "from sklearn.dummy import DummyRegressor\n",
    "from sklearn.utils import shuffle\n",
    "from sklearn.tree import plot_tree\n",
    "from sklearn.multiclass import OneVsRestClassifier\n",
    "from sklearn.ensemble import RandomForestClassifier\n",
    "from sklearn.model_selection import cross_val_score\n",
    "import joblib\n",
    "import warnings\n",
    "warnings.filterwarnings('ignore')"
   ]
  },
  {
   "cell_type": "markdown",
   "metadata": {},
   "source": [
    "## 1. Preprocessing"
   ]
  },
  {
   "cell_type": "markdown",
   "metadata": {},
   "source": [
    "1. Read the file `dayofweek.csv` to a dataframe.\n",
    "2. Using `train_test_split` with parameters `test_size=0.2`, `random_state=21` get `X_train`, `y_train`, `X_test`, `y_test`.\n",
    "3. Using, for example, `value_counts()` to check if the distribution of classes is similar in train and test.\n",
    "4. Use the additional parameter `stratify=` and check the distribution again, now it should be more or less similar in both datasets."
   ]
  },
  {
   "cell_type": "code",
   "execution_count": 2,
   "metadata": {},
   "outputs": [
    {
     "name": "stdout",
     "output_type": "stream",
     "text": [
      "<class 'pandas.core.frame.DataFrame'>\n",
      "RangeIndex: 1686 entries, 0 to 1685\n",
      "Data columns (total 44 columns):\n",
      " #   Column            Non-Null Count  Dtype  \n",
      "---  ------            --------------  -----  \n",
      " 0   numTrials         1686 non-null   float64\n",
      " 1   hour              1686 non-null   float64\n",
      " 2   dayofweek         1686 non-null   int64  \n",
      " 3   uid_user_0        1686 non-null   float64\n",
      " 4   uid_user_1        1686 non-null   float64\n",
      " 5   uid_user_10       1686 non-null   float64\n",
      " 6   uid_user_11       1686 non-null   float64\n",
      " 7   uid_user_12       1686 non-null   float64\n",
      " 8   uid_user_13       1686 non-null   float64\n",
      " 9   uid_user_14       1686 non-null   float64\n",
      " 10  uid_user_15       1686 non-null   float64\n",
      " 11  uid_user_16       1686 non-null   float64\n",
      " 12  uid_user_17       1686 non-null   float64\n",
      " 13  uid_user_18       1686 non-null   float64\n",
      " 14  uid_user_19       1686 non-null   float64\n",
      " 15  uid_user_2        1686 non-null   float64\n",
      " 16  uid_user_20       1686 non-null   float64\n",
      " 17  uid_user_21       1686 non-null   float64\n",
      " 18  uid_user_22       1686 non-null   float64\n",
      " 19  uid_user_23       1686 non-null   float64\n",
      " 20  uid_user_24       1686 non-null   float64\n",
      " 21  uid_user_25       1686 non-null   float64\n",
      " 22  uid_user_26       1686 non-null   float64\n",
      " 23  uid_user_27       1686 non-null   float64\n",
      " 24  uid_user_28       1686 non-null   float64\n",
      " 25  uid_user_29       1686 non-null   float64\n",
      " 26  uid_user_3        1686 non-null   float64\n",
      " 27  uid_user_30       1686 non-null   float64\n",
      " 28  uid_user_31       1686 non-null   float64\n",
      " 29  uid_user_4        1686 non-null   float64\n",
      " 30  uid_user_6        1686 non-null   float64\n",
      " 31  uid_user_7        1686 non-null   float64\n",
      " 32  uid_user_8        1686 non-null   float64\n",
      " 33  labname_code_rvw  1686 non-null   float64\n",
      " 34  labname_lab02     1686 non-null   float64\n",
      " 35  labname_lab03     1686 non-null   float64\n",
      " 36  labname_lab03s    1686 non-null   float64\n",
      " 37  labname_lab05s    1686 non-null   float64\n",
      " 38  labname_laba04    1686 non-null   float64\n",
      " 39  labname_laba04s   1686 non-null   float64\n",
      " 40  labname_laba05    1686 non-null   float64\n",
      " 41  labname_laba06    1686 non-null   float64\n",
      " 42  labname_laba06s   1686 non-null   float64\n",
      " 43  labname_project1  1686 non-null   float64\n",
      "dtypes: float64(43), int64(1)\n",
      "memory usage: 579.7 KB\n"
     ]
    },
    {
     "data": {
      "text/html": [
       "<div>\n",
       "<style scoped>\n",
       "    .dataframe tbody tr th:only-of-type {\n",
       "        vertical-align: middle;\n",
       "    }\n",
       "\n",
       "    .dataframe tbody tr th {\n",
       "        vertical-align: top;\n",
       "    }\n",
       "\n",
       "    .dataframe thead th {\n",
       "        text-align: right;\n",
       "    }\n",
       "</style>\n",
       "<table border=\"1\" class=\"dataframe\">\n",
       "  <thead>\n",
       "    <tr style=\"text-align: right;\">\n",
       "      <th></th>\n",
       "      <th>numTrials</th>\n",
       "      <th>hour</th>\n",
       "      <th>dayofweek</th>\n",
       "      <th>uid_user_0</th>\n",
       "      <th>uid_user_1</th>\n",
       "      <th>uid_user_10</th>\n",
       "      <th>uid_user_11</th>\n",
       "      <th>uid_user_12</th>\n",
       "      <th>uid_user_13</th>\n",
       "      <th>uid_user_14</th>\n",
       "      <th>...</th>\n",
       "      <th>labname_lab02</th>\n",
       "      <th>labname_lab03</th>\n",
       "      <th>labname_lab03s</th>\n",
       "      <th>labname_lab05s</th>\n",
       "      <th>labname_laba04</th>\n",
       "      <th>labname_laba04s</th>\n",
       "      <th>labname_laba05</th>\n",
       "      <th>labname_laba06</th>\n",
       "      <th>labname_laba06s</th>\n",
       "      <th>labname_project1</th>\n",
       "    </tr>\n",
       "  </thead>\n",
       "  <tbody>\n",
       "    <tr>\n",
       "      <th>0</th>\n",
       "      <td>-0.788667</td>\n",
       "      <td>-2.562352</td>\n",
       "      <td>4</td>\n",
       "      <td>0.0</td>\n",
       "      <td>0.0</td>\n",
       "      <td>0.0</td>\n",
       "      <td>0.0</td>\n",
       "      <td>0.0</td>\n",
       "      <td>0.0</td>\n",
       "      <td>0.0</td>\n",
       "      <td>...</td>\n",
       "      <td>0.0</td>\n",
       "      <td>0.0</td>\n",
       "      <td>0.0</td>\n",
       "      <td>0.0</td>\n",
       "      <td>0.0</td>\n",
       "      <td>0.0</td>\n",
       "      <td>0.0</td>\n",
       "      <td>0.0</td>\n",
       "      <td>0.0</td>\n",
       "      <td>1.0</td>\n",
       "    </tr>\n",
       "    <tr>\n",
       "      <th>1</th>\n",
       "      <td>-0.756764</td>\n",
       "      <td>-2.562352</td>\n",
       "      <td>4</td>\n",
       "      <td>0.0</td>\n",
       "      <td>0.0</td>\n",
       "      <td>0.0</td>\n",
       "      <td>0.0</td>\n",
       "      <td>0.0</td>\n",
       "      <td>0.0</td>\n",
       "      <td>0.0</td>\n",
       "      <td>...</td>\n",
       "      <td>0.0</td>\n",
       "      <td>0.0</td>\n",
       "      <td>0.0</td>\n",
       "      <td>0.0</td>\n",
       "      <td>0.0</td>\n",
       "      <td>0.0</td>\n",
       "      <td>0.0</td>\n",
       "      <td>0.0</td>\n",
       "      <td>0.0</td>\n",
       "      <td>1.0</td>\n",
       "    </tr>\n",
       "    <tr>\n",
       "      <th>2</th>\n",
       "      <td>-0.724861</td>\n",
       "      <td>-2.562352</td>\n",
       "      <td>4</td>\n",
       "      <td>0.0</td>\n",
       "      <td>0.0</td>\n",
       "      <td>0.0</td>\n",
       "      <td>0.0</td>\n",
       "      <td>0.0</td>\n",
       "      <td>0.0</td>\n",
       "      <td>0.0</td>\n",
       "      <td>...</td>\n",
       "      <td>0.0</td>\n",
       "      <td>0.0</td>\n",
       "      <td>0.0</td>\n",
       "      <td>0.0</td>\n",
       "      <td>0.0</td>\n",
       "      <td>0.0</td>\n",
       "      <td>0.0</td>\n",
       "      <td>0.0</td>\n",
       "      <td>0.0</td>\n",
       "      <td>1.0</td>\n",
       "    </tr>\n",
       "    <tr>\n",
       "      <th>3</th>\n",
       "      <td>-0.692958</td>\n",
       "      <td>-2.562352</td>\n",
       "      <td>4</td>\n",
       "      <td>0.0</td>\n",
       "      <td>0.0</td>\n",
       "      <td>0.0</td>\n",
       "      <td>0.0</td>\n",
       "      <td>0.0</td>\n",
       "      <td>0.0</td>\n",
       "      <td>0.0</td>\n",
       "      <td>...</td>\n",
       "      <td>0.0</td>\n",
       "      <td>0.0</td>\n",
       "      <td>0.0</td>\n",
       "      <td>0.0</td>\n",
       "      <td>0.0</td>\n",
       "      <td>0.0</td>\n",
       "      <td>0.0</td>\n",
       "      <td>0.0</td>\n",
       "      <td>0.0</td>\n",
       "      <td>1.0</td>\n",
       "    </tr>\n",
       "    <tr>\n",
       "      <th>4</th>\n",
       "      <td>-0.661055</td>\n",
       "      <td>-2.562352</td>\n",
       "      <td>4</td>\n",
       "      <td>0.0</td>\n",
       "      <td>0.0</td>\n",
       "      <td>0.0</td>\n",
       "      <td>0.0</td>\n",
       "      <td>0.0</td>\n",
       "      <td>0.0</td>\n",
       "      <td>0.0</td>\n",
       "      <td>...</td>\n",
       "      <td>0.0</td>\n",
       "      <td>0.0</td>\n",
       "      <td>0.0</td>\n",
       "      <td>0.0</td>\n",
       "      <td>0.0</td>\n",
       "      <td>0.0</td>\n",
       "      <td>0.0</td>\n",
       "      <td>0.0</td>\n",
       "      <td>0.0</td>\n",
       "      <td>1.0</td>\n",
       "    </tr>\n",
       "    <tr>\n",
       "      <th>...</th>\n",
       "      <td>...</td>\n",
       "      <td>...</td>\n",
       "      <td>...</td>\n",
       "      <td>...</td>\n",
       "      <td>...</td>\n",
       "      <td>...</td>\n",
       "      <td>...</td>\n",
       "      <td>...</td>\n",
       "      <td>...</td>\n",
       "      <td>...</td>\n",
       "      <td>...</td>\n",
       "      <td>...</td>\n",
       "      <td>...</td>\n",
       "      <td>...</td>\n",
       "      <td>...</td>\n",
       "      <td>...</td>\n",
       "      <td>...</td>\n",
       "      <td>...</td>\n",
       "      <td>...</td>\n",
       "      <td>...</td>\n",
       "      <td>...</td>\n",
       "    </tr>\n",
       "    <tr>\n",
       "      <th>1681</th>\n",
       "      <td>-0.533442</td>\n",
       "      <td>0.945382</td>\n",
       "      <td>3</td>\n",
       "      <td>0.0</td>\n",
       "      <td>0.0</td>\n",
       "      <td>0.0</td>\n",
       "      <td>0.0</td>\n",
       "      <td>0.0</td>\n",
       "      <td>0.0</td>\n",
       "      <td>0.0</td>\n",
       "      <td>...</td>\n",
       "      <td>0.0</td>\n",
       "      <td>0.0</td>\n",
       "      <td>0.0</td>\n",
       "      <td>0.0</td>\n",
       "      <td>0.0</td>\n",
       "      <td>0.0</td>\n",
       "      <td>0.0</td>\n",
       "      <td>0.0</td>\n",
       "      <td>1.0</td>\n",
       "      <td>0.0</td>\n",
       "    </tr>\n",
       "    <tr>\n",
       "      <th>1682</th>\n",
       "      <td>-0.629151</td>\n",
       "      <td>0.945382</td>\n",
       "      <td>3</td>\n",
       "      <td>0.0</td>\n",
       "      <td>1.0</td>\n",
       "      <td>0.0</td>\n",
       "      <td>0.0</td>\n",
       "      <td>0.0</td>\n",
       "      <td>0.0</td>\n",
       "      <td>0.0</td>\n",
       "      <td>...</td>\n",
       "      <td>0.0</td>\n",
       "      <td>0.0</td>\n",
       "      <td>0.0</td>\n",
       "      <td>0.0</td>\n",
       "      <td>0.0</td>\n",
       "      <td>0.0</td>\n",
       "      <td>0.0</td>\n",
       "      <td>0.0</td>\n",
       "      <td>1.0</td>\n",
       "      <td>0.0</td>\n",
       "    </tr>\n",
       "    <tr>\n",
       "      <th>1683</th>\n",
       "      <td>-0.597248</td>\n",
       "      <td>0.945382</td>\n",
       "      <td>3</td>\n",
       "      <td>0.0</td>\n",
       "      <td>1.0</td>\n",
       "      <td>0.0</td>\n",
       "      <td>0.0</td>\n",
       "      <td>0.0</td>\n",
       "      <td>0.0</td>\n",
       "      <td>0.0</td>\n",
       "      <td>...</td>\n",
       "      <td>0.0</td>\n",
       "      <td>0.0</td>\n",
       "      <td>0.0</td>\n",
       "      <td>0.0</td>\n",
       "      <td>0.0</td>\n",
       "      <td>0.0</td>\n",
       "      <td>0.0</td>\n",
       "      <td>0.0</td>\n",
       "      <td>1.0</td>\n",
       "      <td>0.0</td>\n",
       "    </tr>\n",
       "    <tr>\n",
       "      <th>1684</th>\n",
       "      <td>-0.565345</td>\n",
       "      <td>0.945382</td>\n",
       "      <td>3</td>\n",
       "      <td>0.0</td>\n",
       "      <td>1.0</td>\n",
       "      <td>0.0</td>\n",
       "      <td>0.0</td>\n",
       "      <td>0.0</td>\n",
       "      <td>0.0</td>\n",
       "      <td>0.0</td>\n",
       "      <td>...</td>\n",
       "      <td>0.0</td>\n",
       "      <td>0.0</td>\n",
       "      <td>0.0</td>\n",
       "      <td>0.0</td>\n",
       "      <td>0.0</td>\n",
       "      <td>0.0</td>\n",
       "      <td>0.0</td>\n",
       "      <td>0.0</td>\n",
       "      <td>1.0</td>\n",
       "      <td>0.0</td>\n",
       "    </tr>\n",
       "    <tr>\n",
       "      <th>1685</th>\n",
       "      <td>-0.533442</td>\n",
       "      <td>0.945382</td>\n",
       "      <td>3</td>\n",
       "      <td>0.0</td>\n",
       "      <td>1.0</td>\n",
       "      <td>0.0</td>\n",
       "      <td>0.0</td>\n",
       "      <td>0.0</td>\n",
       "      <td>0.0</td>\n",
       "      <td>0.0</td>\n",
       "      <td>...</td>\n",
       "      <td>0.0</td>\n",
       "      <td>0.0</td>\n",
       "      <td>0.0</td>\n",
       "      <td>0.0</td>\n",
       "      <td>0.0</td>\n",
       "      <td>0.0</td>\n",
       "      <td>0.0</td>\n",
       "      <td>0.0</td>\n",
       "      <td>1.0</td>\n",
       "      <td>0.0</td>\n",
       "    </tr>\n",
       "  </tbody>\n",
       "</table>\n",
       "<p>1686 rows × 44 columns</p>\n",
       "</div>"
      ],
      "text/plain": [
       "      numTrials      hour  dayofweek  uid_user_0  uid_user_1  uid_user_10  \\\n",
       "0     -0.788667 -2.562352          4         0.0         0.0          0.0   \n",
       "1     -0.756764 -2.562352          4         0.0         0.0          0.0   \n",
       "2     -0.724861 -2.562352          4         0.0         0.0          0.0   \n",
       "3     -0.692958 -2.562352          4         0.0         0.0          0.0   \n",
       "4     -0.661055 -2.562352          4         0.0         0.0          0.0   \n",
       "...         ...       ...        ...         ...         ...          ...   \n",
       "1681  -0.533442  0.945382          3         0.0         0.0          0.0   \n",
       "1682  -0.629151  0.945382          3         0.0         1.0          0.0   \n",
       "1683  -0.597248  0.945382          3         0.0         1.0          0.0   \n",
       "1684  -0.565345  0.945382          3         0.0         1.0          0.0   \n",
       "1685  -0.533442  0.945382          3         0.0         1.0          0.0   \n",
       "\n",
       "      uid_user_11  uid_user_12  uid_user_13  uid_user_14  ...  labname_lab02  \\\n",
       "0             0.0          0.0          0.0          0.0  ...            0.0   \n",
       "1             0.0          0.0          0.0          0.0  ...            0.0   \n",
       "2             0.0          0.0          0.0          0.0  ...            0.0   \n",
       "3             0.0          0.0          0.0          0.0  ...            0.0   \n",
       "4             0.0          0.0          0.0          0.0  ...            0.0   \n",
       "...           ...          ...          ...          ...  ...            ...   \n",
       "1681          0.0          0.0          0.0          0.0  ...            0.0   \n",
       "1682          0.0          0.0          0.0          0.0  ...            0.0   \n",
       "1683          0.0          0.0          0.0          0.0  ...            0.0   \n",
       "1684          0.0          0.0          0.0          0.0  ...            0.0   \n",
       "1685          0.0          0.0          0.0          0.0  ...            0.0   \n",
       "\n",
       "      labname_lab03  labname_lab03s  labname_lab05s  labname_laba04  \\\n",
       "0               0.0             0.0             0.0             0.0   \n",
       "1               0.0             0.0             0.0             0.0   \n",
       "2               0.0             0.0             0.0             0.0   \n",
       "3               0.0             0.0             0.0             0.0   \n",
       "4               0.0             0.0             0.0             0.0   \n",
       "...             ...             ...             ...             ...   \n",
       "1681            0.0             0.0             0.0             0.0   \n",
       "1682            0.0             0.0             0.0             0.0   \n",
       "1683            0.0             0.0             0.0             0.0   \n",
       "1684            0.0             0.0             0.0             0.0   \n",
       "1685            0.0             0.0             0.0             0.0   \n",
       "\n",
       "      labname_laba04s  labname_laba05  labname_laba06  labname_laba06s  \\\n",
       "0                 0.0             0.0             0.0              0.0   \n",
       "1                 0.0             0.0             0.0              0.0   \n",
       "2                 0.0             0.0             0.0              0.0   \n",
       "3                 0.0             0.0             0.0              0.0   \n",
       "4                 0.0             0.0             0.0              0.0   \n",
       "...               ...             ...             ...              ...   \n",
       "1681              0.0             0.0             0.0              1.0   \n",
       "1682              0.0             0.0             0.0              1.0   \n",
       "1683              0.0             0.0             0.0              1.0   \n",
       "1684              0.0             0.0             0.0              1.0   \n",
       "1685              0.0             0.0             0.0              1.0   \n",
       "\n",
       "      labname_project1  \n",
       "0                  1.0  \n",
       "1                  1.0  \n",
       "2                  1.0  \n",
       "3                  1.0  \n",
       "4                  1.0  \n",
       "...                ...  \n",
       "1681               0.0  \n",
       "1682               0.0  \n",
       "1683               0.0  \n",
       "1684               0.0  \n",
       "1685               0.0  \n",
       "\n",
       "[1686 rows x 44 columns]"
      ]
     },
     "execution_count": 2,
     "metadata": {},
     "output_type": "execute_result"
    }
   ],
   "source": [
    "df = pd.read_csv(\"../data/dayofweek.csv\")\n",
    "df.info()\n",
    "df"
   ]
  },
  {
   "cell_type": "code",
   "execution_count": 3,
   "metadata": {},
   "outputs": [],
   "source": [
    "target = df[\"dayofweek\"]\n",
    "features = df.drop(columns=[\"dayofweek\"])"
   ]
  },
  {
   "cell_type": "code",
   "execution_count": 4,
   "metadata": {},
   "outputs": [
    {
     "data": {
      "text/plain": [
       "0    0.295238\n",
       "1    0.234234\n",
       "2    0.192000\n",
       "3    0.265176\n",
       "4    0.300000\n",
       "5    0.254630\n",
       "6    0.240418\n",
       "Name: dayofweek, dtype: float64"
      ]
     },
     "execution_count": 4,
     "metadata": {},
     "output_type": "execute_result"
    }
   ],
   "source": [
    "X_train, X_test, y_train, y_test = train_test_split(features, target, test_size=0.2, \n",
    "                                                    random_state=21)\n",
    "y_test.value_counts() / y_train.value_counts()"
   ]
  },
  {
   "cell_type": "code",
   "execution_count": 5,
   "metadata": {},
   "outputs": [
    {
     "data": {
      "text/plain": [
       "3    0.253165\n",
       "6    0.249123\n",
       "1    0.251142\n",
       "5    0.248848\n",
       "2    0.252101\n",
       "0    0.247706\n",
       "4    0.253012\n",
       "Name: dayofweek, dtype: float64"
      ]
     },
     "execution_count": 5,
     "metadata": {},
     "output_type": "execute_result"
    }
   ],
   "source": [
    "X_train, X_test, y_train, y_test = train_test_split(features, target, test_size=0.2, \n",
    "                                                    random_state=21, stratify=target)\n",
    "y_test.value_counts() / y_train.value_counts()"
   ]
  },
  {
   "cell_type": "code",
   "execution_count": null,
   "metadata": {},
   "outputs": [],
   "source": []
  },
  {
   "cell_type": "markdown",
   "metadata": {},
   "source": [
    "## 2. Baseline models"
   ]
  },
  {
   "cell_type": "markdown",
   "metadata": {},
   "source": [
    "1. Train exactly the same baseline models from the previous exercise and calculate the accuracies using the test dataset with stratification.\n",
    "2. Did all the models show the similar values of the metric? Which one has the largest difference comparing the current exercise and the previous? Put the answer to the markdown cell in the end of the section."
   ]
  },
  {
   "cell_type": "markdown",
   "metadata": {},
   "source": [
    "### a. Logreg"
   ]
  },
  {
   "cell_type": "code",
   "execution_count": 6,
   "metadata": {},
   "outputs": [
    {
     "data": {
      "text/plain": [
       "0.6272189349112426"
      ]
     },
     "execution_count": 6,
     "metadata": {},
     "output_type": "execute_result"
    }
   ],
   "source": [
    "model = LogisticRegression(random_state=21, fit_intercept=False)\n",
    "model.fit(X_train, y_train)\n",
    "predict = model.predict(X_test)\n",
    "accuracy_score(y_test, predict)"
   ]
  },
  {
   "cell_type": "code",
   "execution_count": null,
   "metadata": {},
   "outputs": [],
   "source": []
  },
  {
   "cell_type": "markdown",
   "metadata": {},
   "source": [
    "### b. SVM"
   ]
  },
  {
   "cell_type": "code",
   "execution_count": 7,
   "metadata": {},
   "outputs": [
    {
     "data": {
      "text/plain": [
       "0.7159763313609467"
      ]
     },
     "execution_count": 7,
     "metadata": {},
     "output_type": "execute_result"
    }
   ],
   "source": [
    "model = svm.SVC(random_state=21, probability=True, kernel=\"linear\")\n",
    "model.fit(X_train, y_train)\n",
    "predict = model.predict(X_test)\n",
    "accuracy_score(y_test, predict)"
   ]
  },
  {
   "cell_type": "markdown",
   "metadata": {},
   "source": [
    "### c. Decision tree"
   ]
  },
  {
   "cell_type": "code",
   "execution_count": 8,
   "metadata": {},
   "outputs": [
    {
     "data": {
      "text/plain": [
       "0.5295857988165681"
      ]
     },
     "execution_count": 8,
     "metadata": {},
     "output_type": "execute_result"
    }
   ],
   "source": [
    "model = DecisionTreeClassifier(max_depth=4, random_state=21)\n",
    "model.fit(X_train, y_train)\n",
    "predict = model.predict(X_test)\n",
    "accuracy_score(y_test, predict)"
   ]
  },
  {
   "cell_type": "markdown",
   "metadata": {},
   "source": [
    "### d. Random forest"
   ]
  },
  {
   "cell_type": "code",
   "execution_count": 9,
   "metadata": {},
   "outputs": [
    {
     "data": {
      "text/plain": [
       "0.9289940828402367"
      ]
     },
     "execution_count": 9,
     "metadata": {},
     "output_type": "execute_result"
    }
   ],
   "source": [
    "model = RandomForestClassifier(n_estimators=100, max_depth = 25, random_state=21)\n",
    "model.fit(X_train, y_train)\n",
    "predict = model.predict(X_test)\n",
    "accuracy_score(y_test, predict)"
   ]
  },
  {
   "cell_type": "markdown",
   "metadata": {},
   "source": [
    "Answer: Random forest"
   ]
  },
  {
   "cell_type": "markdown",
   "metadata": {},
   "source": [
    "## 3. Crossvalidation"
   ]
  },
  {
   "cell_type": "markdown",
   "metadata": {},
   "source": [
    "We could play with parameters of the model trying to achive a better accuracy on the test dataset, but it is a bad practice. It leads us again to overfitting. Test dataset is only for checking quality of a final model.\n",
    "\n",
    "But there is another way of solving the problem – crossvalidation. It does not use test dataset, but creates one more split of train dataset. Again, there are different ways of doing it, but the common thing is that there is a validation dataset that is used for hyperparameters optimization."
   ]
  },
  {
   "cell_type": "markdown",
   "metadata": {},
   "source": [
    "1. Using `cross_val_score` with `cv=10` calculate the mean accuracy and standard deviation for every model that you used before (logreg with `solver='liblinear'`, SVC, decision tree, random forest)."
   ]
  },
  {
   "cell_type": "markdown",
   "metadata": {},
   "source": [
    "### a. Logreg"
   ]
  },
  {
   "cell_type": "code",
   "execution_count": 10,
   "metadata": {},
   "outputs": [],
   "source": [
    "model = LogisticRegression(random_state=21, fit_intercept=False, solver='liblinear')"
   ]
  },
  {
   "cell_type": "code",
   "execution_count": 11,
   "metadata": {},
   "outputs": [
    {
     "data": {
      "text/plain": [
       "['accuracy',\n",
       " 'adjusted_mutual_info_score',\n",
       " 'adjusted_rand_score',\n",
       " 'average_precision',\n",
       " 'balanced_accuracy',\n",
       " 'completeness_score',\n",
       " 'explained_variance',\n",
       " 'f1',\n",
       " 'f1_macro',\n",
       " 'f1_micro',\n",
       " 'f1_samples',\n",
       " 'f1_weighted',\n",
       " 'fowlkes_mallows_score',\n",
       " 'homogeneity_score',\n",
       " 'jaccard',\n",
       " 'jaccard_macro',\n",
       " 'jaccard_micro',\n",
       " 'jaccard_samples',\n",
       " 'jaccard_weighted',\n",
       " 'max_error',\n",
       " 'mutual_info_score',\n",
       " 'neg_brier_score',\n",
       " 'neg_log_loss',\n",
       " 'neg_mean_absolute_error',\n",
       " 'neg_mean_absolute_percentage_error',\n",
       " 'neg_mean_gamma_deviance',\n",
       " 'neg_mean_poisson_deviance',\n",
       " 'neg_mean_squared_error',\n",
       " 'neg_mean_squared_log_error',\n",
       " 'neg_median_absolute_error',\n",
       " 'neg_root_mean_squared_error',\n",
       " 'normalized_mutual_info_score',\n",
       " 'precision',\n",
       " 'precision_macro',\n",
       " 'precision_micro',\n",
       " 'precision_samples',\n",
       " 'precision_weighted',\n",
       " 'r2',\n",
       " 'rand_score',\n",
       " 'recall',\n",
       " 'recall_macro',\n",
       " 'recall_micro',\n",
       " 'recall_samples',\n",
       " 'recall_weighted',\n",
       " 'roc_auc',\n",
       " 'roc_auc_ovo',\n",
       " 'roc_auc_ovo_weighted',\n",
       " 'roc_auc_ovr',\n",
       " 'roc_auc_ovr_weighted',\n",
       " 'top_k_accuracy',\n",
       " 'v_measure_score']"
      ]
     },
     "execution_count": 11,
     "metadata": {},
     "output_type": "execute_result"
    }
   ],
   "source": [
    "sorted(sklearn.metrics.SCORERS.keys())"
   ]
  },
  {
   "cell_type": "code",
   "execution_count": 12,
   "metadata": {},
   "outputs": [
    {
     "name": "stdout",
     "output_type": "stream",
     "text": [
      "mean 0.45291983657368284\n",
      "std 0.16960708432126997\n"
     ]
    }
   ],
   "source": [
    "scores = cross_val_score(model, features, target, scoring=\"accuracy\", cv=10)\n",
    "print(\"mean\", scores.mean())\n",
    "print(\"std\", scores.std())"
   ]
  },
  {
   "cell_type": "markdown",
   "metadata": {},
   "source": [
    "### b. SVM"
   ]
  },
  {
   "cell_type": "code",
   "execution_count": 13,
   "metadata": {},
   "outputs": [
    {
     "name": "stdout",
     "output_type": "stream",
     "text": [
      "mean 0.5051986475063398\n",
      "std 0.15857963555262297\n"
     ]
    }
   ],
   "source": [
    "model = svm.SVC(random_state=21, probability=True, kernel=\"linear\")\n",
    "scores = cross_val_score(model, features, target, scoring=\"accuracy\", cv=10)\n",
    "print(\"mean\", scores.mean())\n",
    "print(\"std\", scores.std())"
   ]
  },
  {
   "cell_type": "markdown",
   "metadata": {},
   "source": [
    "### c. Decision tree"
   ]
  },
  {
   "cell_type": "code",
   "execution_count": 14,
   "metadata": {},
   "outputs": [
    {
     "name": "stdout",
     "output_type": "stream",
     "text": [
      "mean 0.3883523527754297\n",
      "std 0.11835394295385691\n"
     ]
    }
   ],
   "source": [
    "model = DecisionTreeClassifier(max_depth=4, random_state=21)\n",
    "scores = cross_val_score(model, features, target, scoring=\"accuracy\", cv=10)\n",
    "print(\"mean\", scores.mean())\n",
    "print(\"std\", scores.std())"
   ]
  },
  {
   "cell_type": "markdown",
   "metadata": {},
   "source": [
    "### d. Random forest"
   ]
  },
  {
   "cell_type": "code",
   "execution_count": 15,
   "metadata": {},
   "outputs": [
    {
     "name": "stdout",
     "output_type": "stream",
     "text": [
      "mean 0.6607847280924204\n",
      "std 0.17462799234675505\n"
     ]
    }
   ],
   "source": [
    "model = RandomForestClassifier(n_estimators=100, max_depth = 25, random_state=21)\n",
    "scores = cross_val_score(model, features, target, scoring=\"accuracy\", cv=10)\n",
    "print(\"mean\", scores.mean())\n",
    "print(\"std\", scores.std())"
   ]
  },
  {
   "cell_type": "markdown",
   "metadata": {},
   "source": [
    "## 4. Optimization"
   ]
  },
  {
   "cell_type": "markdown",
   "metadata": {},
   "source": [
    "1. Choose the best model and play a little bit with the parameters on cross-validation, find a good enough parameter or a combination of the parameters.\n",
    "2. Calculate the accuracy for the final model on the test dataset.\n",
    "3. Draw a plot that displays the top-10 most  important features for that model.\n",
    "4. Save the model using `joblib`.\n",
    "5. Load the model, make predictions for the test dataset and calculate the accuracy."
   ]
  },
  {
   "cell_type": "code",
   "execution_count": 16,
   "metadata": {},
   "outputs": [
    {
     "name": "stdout",
     "output_type": "stream",
     "text": [
      "n_estimators:  1  max_depth:  1 score:  0.22895886165116935\n",
      "n_estimators:  1  max_depth:  10 score:  0.3622464074387151\n",
      "n_estimators:  1  max_depth:  50 score:  0.36403212172442945\n",
      "n_estimators:  1  max_depth:  100 score:  0.37291842772612005\n",
      "n_estimators:  1  max_depth:  150 score:  0.364634404057481\n",
      "n_estimators:  1  max_depth:  200 score:  0.36877993801070724\n",
      "n_estimators:  1  max_depth:  250 score:  0.3711468019160327\n",
      "n_estimators:  5  max_depth:  1 score:  0.3090025359256129\n",
      "n_estimators:  5  max_depth:  10 score:  0.48742955762186535\n",
      "n_estimators:  5  max_depth:  50 score:  0.47318610876303185\n",
      "n_estimators:  5  max_depth:  100 score:  0.47498943364327983\n",
      "n_estimators:  5  max_depth:  150 score:  0.47318963088193866\n",
      "n_estimators:  5  max_depth:  200 score:  0.4731966751197521\n",
      "n_estimators:  5  max_depth:  250 score:  0.4726049591434208\n",
      "n_estimators:  10  max_depth:  1 score:  0.45555085939701334\n",
      "n_estimators:  10  max_depth:  10 score:  0.550503663003663\n",
      "n_estimators:  10  max_depth:  50 score:  0.5854289940828402\n",
      "n_estimators:  10  max_depth:  100 score:  0.6038250211327135\n",
      "n_estimators:  10  max_depth:  150 score:  0.5961080586080585\n",
      "n_estimators:  10  max_depth:  200 score:  0.5806530008453086\n",
      "n_estimators:  10  max_depth:  250 score:  0.5835974922513384\n",
      "n_estimators:  25  max_depth:  1 score:  0.5350450831220062\n",
      "n_estimators:  25  max_depth:  10 score:  0.6305719921104537\n",
      "n_estimators:  25  max_depth:  50 score:  0.6566638489715413\n",
      "n_estimators:  25  max_depth:  100 score:  0.6607847280924204\n",
      "n_estimators:  25  max_depth:  150 score:  0.6578261482107636\n",
      "n_estimators:  25  max_depth:  200 score:  0.6619928148774301\n",
      "n_estimators:  25  max_depth:  250 score:  0.6578296703296702\n",
      "n_estimators:  50  max_depth:  1 score:  0.5421386306001692\n",
      "n_estimators:  50  max_depth:  10 score:  0.6536876584953506\n",
      "n_estimators:  50  max_depth:  50 score:  0.6649584389969005\n",
      "n_estimators:  50  max_depth:  100 score:  0.6602035784728091\n",
      "n_estimators:  50  max_depth:  150 score:  0.6613834883065651\n",
      "n_estimators:  50  max_depth:  200 score:  0.6625774866159482\n",
      "n_estimators:  50  max_depth:  250 score:  0.6613905325443786\n",
      "n_estimators:  75  max_depth:  1 score:  0.5421386306001692\n",
      "n_estimators:  75  max_depth:  10 score:  0.6536876584953506\n",
      "n_estimators:  75  max_depth:  50 score:  0.6649584389969005\n",
      "n_estimators:  75  max_depth:  100 score:  0.6602035784728091\n",
      "n_estimators:  75  max_depth:  150 score:  0.6613834883065651\n",
      "n_estimators:  75  max_depth:  200 score:  0.6625774866159482\n",
      "n_estimators:  75  max_depth:  250 score:  0.6613905325443786\n",
      "n_estimators:  100  max_depth:  1 score:  0.5421386306001692\n",
      "n_estimators:  100  max_depth:  10 score:  0.6536876584953506\n",
      "n_estimators:  100  max_depth:  50 score:  0.6649584389969005\n",
      "n_estimators:  100  max_depth:  100 score:  0.6602035784728091\n",
      "n_estimators:  100  max_depth:  150 score:  0.6613834883065651\n",
      "n_estimators:  100  max_depth:  200 score:  0.6625774866159482\n",
      "n_estimators:  100  max_depth:  250 score:  0.6613905325443786\n",
      "best: 0.6649584389969005\n"
     ]
    }
   ],
   "source": [
    "best = 0\n",
    "for i in (1, 5, 10, 25, 50, 75, 100):\n",
    "    for j in (1, 10, 50, 100, 150, 200, 250):\n",
    "        model = RandomForestClassifier(n_estimators=j, max_depth = i, random_state=21)\n",
    "        scores = cross_val_score(model, features, target, scoring=\"accuracy\", cv=10)\n",
    "        print(\"n_estimators: \", i, \" max_depth: \", j, \"score: \", scores.mean())\n",
    "        if scores.mean() > best:\n",
    "            best=scores.mean()\n",
    "print(\"best:\", best)"
   ]
  },
  {
   "cell_type": "code",
   "execution_count": 17,
   "metadata": {},
   "outputs": [
    {
     "data": {
      "text/plain": [
       "0.9289940828402367"
      ]
     },
     "execution_count": 17,
     "metadata": {},
     "output_type": "execute_result"
    }
   ],
   "source": [
    "model = RandomForestClassifier(n_estimators=50, max_depth = 50, random_state=21)\n",
    "model.fit(X_train, y_train)\n",
    "predict = model.predict(X_test)\n",
    "accuracy_score(y_test, predict)"
   ]
  },
  {
   "cell_type": "code",
   "execution_count": 18,
   "metadata": {},
   "outputs": [],
   "source": [
    "def draws_barh(coefs, features, n, b=True):\n",
    "    if b==True:\n",
    "        cf = abs(coefs).sum(axis=0)\n",
    "    else:\n",
    "        cf = abs(coefs)\n",
    "    fig, ax = plt.subplots(figsize=(15, 8))\n",
    "    indices = cf.argsort()[::-1][:n]\n",
    "    ax.barh(np.arange(n), cf[indices], color=\"g\")\n",
    "    ax.set_yticks(np.arange(n))\n",
    "    ax.set_yticklabels(features[indices])\n",
    "    ax.invert_yaxis()\n",
    "    plt.show()"
   ]
  },
  {
   "cell_type": "code",
   "execution_count": 19,
   "metadata": {},
   "outputs": [
    {
     "data": {
      "image/png": "[encoded data removed]",
      "text/plain": [
       "<Figure size 1080x576 with 1 Axes>"
      ]
     },
     "metadata": {
      "needs_background": "light"
     },
     "output_type": "display_data"
    }
   ],
   "source": [
    "draws_barh(model.feature_importances_, features.columns, 10, False)"
   ]
  },
  {
   "cell_type": "code",
   "execution_count": 20,
   "metadata": {},
   "outputs": [
    {
     "data": {
      "text/plain": [
       "['../data/rand_forest.joblib']"
      ]
     },
     "execution_count": 20,
     "metadata": {},
     "output_type": "execute_result"
    }
   ],
   "source": [
    "joblib.dump(model, \"../data/rand_forest.joblib\")"
   ]
  },
  {
   "cell_type": "code",
   "execution_count": 21,
   "metadata": {},
   "outputs": [],
   "source": [
    "model_2 = joblib.load(\"../data/rand_forest.joblib\")"
   ]
  },
  {
   "cell_type": "code",
   "execution_count": 22,
   "metadata": {},
   "outputs": [
    {
     "data": {
      "text/plain": [
       "0.9289940828402367"
      ]
     },
     "execution_count": 22,
     "metadata": {},
     "output_type": "execute_result"
    }
   ],
   "source": [
    "predict = model_2.predict(X_test)\n",
    "accuracy_score(y_test, predict)"
   ]
  },
  {
   "cell_type": "code",
   "execution_count": null,
   "metadata": {},
   "outputs": [],
   "source": []
  }
 ],
 "metadata": {
  "kernelspec": {
   "display_name": "Python 3 (ipykernel)",
   "language": "python",
   "name": "python3"
  },
  "language_info": {
   "codemirror_mode": {
    "name": "ipython",
    "version": 3
   },
   "file_extension": ".py",
   "mimetype": "text/x-python",
   "name": "python",
   "nbconvert_exporter": "python",
   "pygments_lexer": "ipython3",
   "version": "3.7.8"
  }
 },
 "nbformat": 4,
 "nbformat_minor": 4
}
