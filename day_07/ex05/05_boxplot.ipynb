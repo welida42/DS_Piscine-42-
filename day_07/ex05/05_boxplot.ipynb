{
 "cells": [
  {
   "cell_type": "code",
   "execution_count": 1,
   "id": "79dbe878",
   "metadata": {},
   "outputs": [],
   "source": [
    "import pandas as pd\n",
    "import sqlite3\n",
    "import matplotlib.pyplot as plt"
   ]
  },
  {
   "cell_type": "markdown",
   "id": "25951e2f",
   "metadata": {},
   "source": [
    "• the figsize is still the same, you can choose whatever fontsize you like\n",
    "\n",
    "• the color palette should be the same as in the example\n",
    "\n",
    "• the fontsize of the title is 15\n",
    "\n",
    "• the width of the box lines is 3, the width of the median lines is 2"
   ]
  },
  {
   "cell_type": "code",
   "execution_count": 2,
   "id": "01e4f0c0",
   "metadata": {},
   "outputs": [
    {
     "name": "stdout",
     "output_type": "stream",
     "text": [
      "<class 'pandas.core.frame.DataFrame'>\n",
      "Int64Index: 22 entries, 0 to 42\n",
      "Data columns (total 4 columns):\n",
      " #   Column  Non-Null Count  Dtype  \n",
      "---  ------  --------------  -----  \n",
      " 0   uid     22 non-null     object \n",
      " 1   diff    22 non-null     float64\n",
      " 2   time    22 non-null     object \n",
      " 3   group   22 non-null     object \n",
      "dtypes: float64(1), object(3)\n",
      "memory usage: 880.0+ bytes\n"
     ]
    }
   ],
   "source": [
    "df = pd.read_csv(\"../data/ab-test.csv\", sep=\",\")\n",
    "df.head()\n",
    "df[df[\"time\"]==\"after\"].info()"
   ]
  },
  {
   "cell_type": "code",
   "execution_count": 3,
   "id": "18d3439e",
   "metadata": {},
   "outputs": [
    {
     "data": {
      "image/png": "[encoded data removed]",
      "text/plain": [
       "<Figure size 1080x576 with 2 Axes>"
      ]
     },
     "metadata": {
      "needs_background": "light"
     },
     "output_type": "display_data"
    }
   ],
   "source": [
    "boxprops = {\"linewidth\": 3, \"color\": \"g\"}\n",
    "whiskerprops = {\"linewidth\": 1, \"color\": \"r\"}\n",
    "medianprops = {\"linewidth\": 2, \"color\": \"r\"}\n",
    "capprops = {\"linewidth\": 1, \"color\": \"r\"}\n",
    "\n",
    "fig, ax = plt.subplots(1, 2, sharey=True, figsize=(15, 8))\n",
    "df[df[\"time\"]==\"after\"].boxplot(by=\"group\", ax=ax[0], showmeans=True, \n",
    "            boxprops=boxprops, medianprops=medianprops, whiskerprops=whiskerprops, capprops=capprops)\n",
    "df[df[\"time\"]==\"before\"].boxplot(by=\"group\", ax=ax[1], showmeans=True,\n",
    "            boxprops = boxprops, medianprops=medianprops, whiskerprops=whiskerprops, capprops=capprops)\n",
    "ax[0].set_title(\"after\")\n",
    "ax[1].set_title(\"before\")\n",
    "fig.suptitle(\"Lag before labs deadline. After and brfore the Newsfeed.\", fontsize=15)\n",
    "plt.show()"
   ]
  },
  {
   "cell_type": "markdown",
   "id": "d9caf1af",
   "metadata": {},
   "source": [
    "“What was the IQR of the control group before the newsfeed?” In your answer, put\n",
    "the approximate value that you can get just by looking at the graph, round it to\n",
    "the nearest 10\n",
    "\n",
    "Answer: 150"
   ]
  },
  {
   "cell_type": "code",
   "execution_count": null,
   "id": "a0791fae",
   "metadata": {},
   "outputs": [],
   "source": []
  }
 ],
 "metadata": {
  "kernelspec": {
   "display_name": "Python 3 (ipykernel)",
   "language": "python",
   "name": "python3"
  },
  "language_info": {
   "codemirror_mode": {
    "name": "ipython",
    "version": 3
   },
   "file_extension": ".py",
   "mimetype": "text/x-python",
   "name": "python",
   "nbconvert_exporter": "python",
   "pygments_lexer": "ipython3",
   "version": "3.7.8"
  }
 },
 "nbformat": 4,
 "nbformat_minor": 5
}
