{
 "cells": [
  {
   "cell_type": "code",
   "execution_count": 1,
   "id": "6589f759",
   "metadata": {},
   "outputs": [],
   "source": [
    "import pandas as pd\n",
    "import sqlite3\n",
    "import matplotlib.pyplot as plt"
   ]
  },
  {
   "cell_type": "code",
   "execution_count": 2,
   "id": "2a4066f9",
   "metadata": {},
   "outputs": [],
   "source": [
    "connection = sqlite3.connect(\"../data/checking-logs.sqlite.sqlite\")"
   ]
  },
  {
   "cell_type": "code",
   "execution_count": 3,
   "id": "73454cde",
   "metadata": {},
   "outputs": [
    {
     "data": {
      "text/html": [
       "<div>\n",
       "<style scoped>\n",
       "    .dataframe tbody tr th:only-of-type {\n",
       "        vertical-align: middle;\n",
       "    }\n",
       "\n",
       "    .dataframe tbody tr th {\n",
       "        vertical-align: top;\n",
       "    }\n",
       "\n",
       "    .dataframe thead th {\n",
       "        text-align: right;\n",
       "    }\n",
       "</style>\n",
       "<table border=\"1\" class=\"dataframe\">\n",
       "  <thead>\n",
       "    <tr style=\"text-align: right;\">\n",
       "      <th></th>\n",
       "      <th>timestamp</th>\n",
       "    </tr>\n",
       "  </thead>\n",
       "  <tbody>\n",
       "    <tr>\n",
       "      <th>0</th>\n",
       "      <td>2020-04-17 05:19:02.744528</td>\n",
       "    </tr>\n",
       "    <tr>\n",
       "      <th>1</th>\n",
       "      <td>2020-04-17 05:22:35.249331</td>\n",
       "    </tr>\n",
       "    <tr>\n",
       "      <th>2</th>\n",
       "      <td>2020-04-17 05:22:45.549397</td>\n",
       "    </tr>\n",
       "    <tr>\n",
       "      <th>3</th>\n",
       "      <td>2020-04-17 05:34:14.691200</td>\n",
       "    </tr>\n",
       "    <tr>\n",
       "      <th>4</th>\n",
       "      <td>2020-04-17 05:34:24.422370</td>\n",
       "    </tr>\n",
       "    <tr>\n",
       "      <th>...</th>\n",
       "      <td>...</td>\n",
       "    </tr>\n",
       "    <tr>\n",
       "      <th>3202</th>\n",
       "      <td>2020-05-21 20:19:06.872761</td>\n",
       "    </tr>\n",
       "    <tr>\n",
       "      <th>3203</th>\n",
       "      <td>2020-05-21 20:22:41.785725</td>\n",
       "    </tr>\n",
       "    <tr>\n",
       "      <th>3204</th>\n",
       "      <td>2020-05-21 20:22:41.877806</td>\n",
       "    </tr>\n",
       "    <tr>\n",
       "      <th>3205</th>\n",
       "      <td>2020-05-21 20:37:00.129678</td>\n",
       "    </tr>\n",
       "    <tr>\n",
       "      <th>3206</th>\n",
       "      <td>2020-05-21 20:37:00.290491</td>\n",
       "    </tr>\n",
       "  </tbody>\n",
       "</table>\n",
       "<p>3207 rows × 1 columns</p>\n",
       "</div>"
      ],
      "text/plain": [
       "                      timestamp\n",
       "0    2020-04-17 05:19:02.744528\n",
       "1    2020-04-17 05:22:35.249331\n",
       "2    2020-04-17 05:22:45.549397\n",
       "3    2020-04-17 05:34:14.691200\n",
       "4    2020-04-17 05:34:24.422370\n",
       "...                         ...\n",
       "3202 2020-05-21 20:19:06.872761\n",
       "3203 2020-05-21 20:22:41.785725\n",
       "3204 2020-05-21 20:22:41.877806\n",
       "3205 2020-05-21 20:37:00.129678\n",
       "3206 2020-05-21 20:37:00.290491\n",
       "\n",
       "[3207 rows x 1 columns]"
      ]
     },
     "execution_count": 3,
     "metadata": {},
     "output_type": "execute_result"
    }
   ],
   "source": [
    "checker = pd.io.sql.read_sql(\"SELECT timestamp From checker WHERE uid LIKE 'user_%'\",\n",
    "                               connection, parse_dates=\"timestamp\")\n",
    "checker"
   ]
  },
  {
   "cell_type": "markdown",
   "id": "c8f1b012",
   "metadata": {},
   "source": [
    "- create two lists of values (for working days and for weekends) for the histogram input\n",
    "- the figsize is still the same, you can choose the fontsize as well as the color palette\n",
    "- use a level of transparency for the histogram in front equal to 0.7"
   ]
  },
  {
   "cell_type": "code",
   "execution_count": 4,
   "id": "d402f21e",
   "metadata": {},
   "outputs": [
    {
     "data": {
      "text/html": [
       "<div>\n",
       "<style scoped>\n",
       "    .dataframe tbody tr th:only-of-type {\n",
       "        vertical-align: middle;\n",
       "    }\n",
       "\n",
       "    .dataframe tbody tr th {\n",
       "        vertical-align: top;\n",
       "    }\n",
       "\n",
       "    .dataframe thead th {\n",
       "        text-align: right;\n",
       "    }\n",
       "</style>\n",
       "<table border=\"1\" class=\"dataframe\">\n",
       "  <thead>\n",
       "    <tr style=\"text-align: right;\">\n",
       "      <th></th>\n",
       "      <th>timestamp</th>\n",
       "      <th>day</th>\n",
       "      <th>weekday</th>\n",
       "      <th>hour</th>\n",
       "    </tr>\n",
       "  </thead>\n",
       "  <tbody>\n",
       "    <tr>\n",
       "      <th>0</th>\n",
       "      <td>2020-04-17 05:19:02.744528</td>\n",
       "      <td>17</td>\n",
       "      <td>4</td>\n",
       "      <td>5</td>\n",
       "    </tr>\n",
       "    <tr>\n",
       "      <th>1</th>\n",
       "      <td>2020-04-17 05:22:35.249331</td>\n",
       "      <td>17</td>\n",
       "      <td>4</td>\n",
       "      <td>5</td>\n",
       "    </tr>\n",
       "    <tr>\n",
       "      <th>2</th>\n",
       "      <td>2020-04-17 05:22:45.549397</td>\n",
       "      <td>17</td>\n",
       "      <td>4</td>\n",
       "      <td>5</td>\n",
       "    </tr>\n",
       "    <tr>\n",
       "      <th>3</th>\n",
       "      <td>2020-04-17 05:34:14.691200</td>\n",
       "      <td>17</td>\n",
       "      <td>4</td>\n",
       "      <td>5</td>\n",
       "    </tr>\n",
       "    <tr>\n",
       "      <th>4</th>\n",
       "      <td>2020-04-17 05:34:24.422370</td>\n",
       "      <td>17</td>\n",
       "      <td>4</td>\n",
       "      <td>5</td>\n",
       "    </tr>\n",
       "    <tr>\n",
       "      <th>...</th>\n",
       "      <td>...</td>\n",
       "      <td>...</td>\n",
       "      <td>...</td>\n",
       "      <td>...</td>\n",
       "    </tr>\n",
       "    <tr>\n",
       "      <th>3202</th>\n",
       "      <td>2020-05-21 20:19:06.872761</td>\n",
       "      <td>21</td>\n",
       "      <td>3</td>\n",
       "      <td>20</td>\n",
       "    </tr>\n",
       "    <tr>\n",
       "      <th>3203</th>\n",
       "      <td>2020-05-21 20:22:41.785725</td>\n",
       "      <td>21</td>\n",
       "      <td>3</td>\n",
       "      <td>20</td>\n",
       "    </tr>\n",
       "    <tr>\n",
       "      <th>3204</th>\n",
       "      <td>2020-05-21 20:22:41.877806</td>\n",
       "      <td>21</td>\n",
       "      <td>3</td>\n",
       "      <td>20</td>\n",
       "    </tr>\n",
       "    <tr>\n",
       "      <th>3205</th>\n",
       "      <td>2020-05-21 20:37:00.129678</td>\n",
       "      <td>21</td>\n",
       "      <td>3</td>\n",
       "      <td>20</td>\n",
       "    </tr>\n",
       "    <tr>\n",
       "      <th>3206</th>\n",
       "      <td>2020-05-21 20:37:00.290491</td>\n",
       "      <td>21</td>\n",
       "      <td>3</td>\n",
       "      <td>20</td>\n",
       "    </tr>\n",
       "  </tbody>\n",
       "</table>\n",
       "<p>3207 rows × 4 columns</p>\n",
       "</div>"
      ],
      "text/plain": [
       "                      timestamp  day  weekday  hour\n",
       "0    2020-04-17 05:19:02.744528   17        4     5\n",
       "1    2020-04-17 05:22:35.249331   17        4     5\n",
       "2    2020-04-17 05:22:45.549397   17        4     5\n",
       "3    2020-04-17 05:34:14.691200   17        4     5\n",
       "4    2020-04-17 05:34:24.422370   17        4     5\n",
       "...                         ...  ...      ...   ...\n",
       "3202 2020-05-21 20:19:06.872761   21        3    20\n",
       "3203 2020-05-21 20:22:41.785725   21        3    20\n",
       "3204 2020-05-21 20:22:41.877806   21        3    20\n",
       "3205 2020-05-21 20:37:00.129678   21        3    20\n",
       "3206 2020-05-21 20:37:00.290491   21        3    20\n",
       "\n",
       "[3207 rows x 4 columns]"
      ]
     },
     "execution_count": 4,
     "metadata": {},
     "output_type": "execute_result"
    }
   ],
   "source": [
    "checker[\"day\"] = checker[\"timestamp\"].dt.day\n",
    "checker[\"weekday\"] = checker[\"timestamp\"].dt.dayofweek\n",
    "checker[\"hour\"] = checker[\"timestamp\"].dt.hour\n",
    "checker"
   ]
  },
  {
   "cell_type": "code",
   "execution_count": 5,
   "id": "d6b46f33",
   "metadata": {},
   "outputs": [
    {
     "data": {
      "text/plain": [
       "3    772\n",
       "6    665\n",
       "1    526\n",
       "5    505\n",
       "2    286\n",
       "0    257\n",
       "4    196\n",
       "Name: weekday, dtype: int64"
      ]
     },
     "execution_count": 5,
     "metadata": {},
     "output_type": "execute_result"
    }
   ],
   "source": [
    "checker[\"weekday\"].value_counts()"
   ]
  },
  {
   "cell_type": "code",
   "execution_count": 6,
   "id": "42c3becc",
   "metadata": {},
   "outputs": [],
   "source": [
    "def ft_day(weekday):\n",
    "    if weekday > 4:\n",
    "        return \"weekend\"\n",
    "    else:\n",
    "        return \"working_day\""
   ]
  },
  {
   "cell_type": "code",
   "execution_count": 7,
   "id": "4b3c2590",
   "metadata": {},
   "outputs": [
    {
     "data": {
      "text/html": [
       "<div>\n",
       "<style scoped>\n",
       "    .dataframe tbody tr th:only-of-type {\n",
       "        vertical-align: middle;\n",
       "    }\n",
       "\n",
       "    .dataframe tbody tr th {\n",
       "        vertical-align: top;\n",
       "    }\n",
       "\n",
       "    .dataframe thead th {\n",
       "        text-align: right;\n",
       "    }\n",
       "</style>\n",
       "<table border=\"1\" class=\"dataframe\">\n",
       "  <thead>\n",
       "    <tr style=\"text-align: right;\">\n",
       "      <th></th>\n",
       "      <th>timestamp</th>\n",
       "      <th>day</th>\n",
       "      <th>weekday</th>\n",
       "      <th>hour</th>\n",
       "    </tr>\n",
       "  </thead>\n",
       "  <tbody>\n",
       "    <tr>\n",
       "      <th>0</th>\n",
       "      <td>2020-04-17 05:19:02.744528</td>\n",
       "      <td>17</td>\n",
       "      <td>working_day</td>\n",
       "      <td>5</td>\n",
       "    </tr>\n",
       "    <tr>\n",
       "      <th>1</th>\n",
       "      <td>2020-04-17 05:22:35.249331</td>\n",
       "      <td>17</td>\n",
       "      <td>working_day</td>\n",
       "      <td>5</td>\n",
       "    </tr>\n",
       "    <tr>\n",
       "      <th>2</th>\n",
       "      <td>2020-04-17 05:22:45.549397</td>\n",
       "      <td>17</td>\n",
       "      <td>working_day</td>\n",
       "      <td>5</td>\n",
       "    </tr>\n",
       "    <tr>\n",
       "      <th>3</th>\n",
       "      <td>2020-04-17 05:34:14.691200</td>\n",
       "      <td>17</td>\n",
       "      <td>working_day</td>\n",
       "      <td>5</td>\n",
       "    </tr>\n",
       "    <tr>\n",
       "      <th>4</th>\n",
       "      <td>2020-04-17 05:34:24.422370</td>\n",
       "      <td>17</td>\n",
       "      <td>working_day</td>\n",
       "      <td>5</td>\n",
       "    </tr>\n",
       "    <tr>\n",
       "      <th>...</th>\n",
       "      <td>...</td>\n",
       "      <td>...</td>\n",
       "      <td>...</td>\n",
       "      <td>...</td>\n",
       "    </tr>\n",
       "    <tr>\n",
       "      <th>3202</th>\n",
       "      <td>2020-05-21 20:19:06.872761</td>\n",
       "      <td>21</td>\n",
       "      <td>working_day</td>\n",
       "      <td>20</td>\n",
       "    </tr>\n",
       "    <tr>\n",
       "      <th>3203</th>\n",
       "      <td>2020-05-21 20:22:41.785725</td>\n",
       "      <td>21</td>\n",
       "      <td>working_day</td>\n",
       "      <td>20</td>\n",
       "    </tr>\n",
       "    <tr>\n",
       "      <th>3204</th>\n",
       "      <td>2020-05-21 20:22:41.877806</td>\n",
       "      <td>21</td>\n",
       "      <td>working_day</td>\n",
       "      <td>20</td>\n",
       "    </tr>\n",
       "    <tr>\n",
       "      <th>3205</th>\n",
       "      <td>2020-05-21 20:37:00.129678</td>\n",
       "      <td>21</td>\n",
       "      <td>working_day</td>\n",
       "      <td>20</td>\n",
       "    </tr>\n",
       "    <tr>\n",
       "      <th>3206</th>\n",
       "      <td>2020-05-21 20:37:00.290491</td>\n",
       "      <td>21</td>\n",
       "      <td>working_day</td>\n",
       "      <td>20</td>\n",
       "    </tr>\n",
       "  </tbody>\n",
       "</table>\n",
       "<p>3207 rows × 4 columns</p>\n",
       "</div>"
      ],
      "text/plain": [
       "                      timestamp  day      weekday  hour\n",
       "0    2020-04-17 05:19:02.744528   17  working_day     5\n",
       "1    2020-04-17 05:22:35.249331   17  working_day     5\n",
       "2    2020-04-17 05:22:45.549397   17  working_day     5\n",
       "3    2020-04-17 05:34:14.691200   17  working_day     5\n",
       "4    2020-04-17 05:34:24.422370   17  working_day     5\n",
       "...                         ...  ...          ...   ...\n",
       "3202 2020-05-21 20:19:06.872761   21  working_day    20\n",
       "3203 2020-05-21 20:22:41.785725   21  working_day    20\n",
       "3204 2020-05-21 20:22:41.877806   21  working_day    20\n",
       "3205 2020-05-21 20:37:00.129678   21  working_day    20\n",
       "3206 2020-05-21 20:37:00.290491   21  working_day    20\n",
       "\n",
       "[3207 rows x 4 columns]"
      ]
     },
     "execution_count": 7,
     "metadata": {},
     "output_type": "execute_result"
    }
   ],
   "source": [
    "checker[\"weekday\"] = checker[\"weekday\"].apply(ft_day)\n",
    "checker"
   ]
  },
  {
   "cell_type": "code",
   "execution_count": 8,
   "id": "f9ec09e8",
   "metadata": {},
   "outputs": [
    {
     "name": "stdout",
     "output_type": "stream",
     "text": [
      "2037\n",
      "1170\n"
     ]
    }
   ],
   "source": [
    "work = list(checker[checker[\"weekday\"]==\"working_day\"][\"hour\"])\n",
    "weekend = list(checker[checker[\"weekday\"]==\"weekend\"][\"hour\"])\n",
    "print(len(work))\n",
    "print(len(weekend))"
   ]
  },
  {
   "cell_type": "code",
   "execution_count": 9,
   "id": "f9cb12ce",
   "metadata": {},
   "outputs": [
    {
     "data": {
      "image/png": "[encoded data removed]",
      "text/plain": [
       "<Figure size 1080x576 with 1 Axes>"
      ]
     },
     "metadata": {
      "needs_background": "light"
     },
     "output_type": "display_data"
    }
   ],
   "source": [
    "plt.figure(figsize=(15, 8))\n",
    "plt.xticks(fontsize=12)\n",
    "plt.hist(work, stacked=True, bins=24, range=[0, 24], alpha=0.7, color=\"cyan\", label=\"working_day\")\n",
    "plt.hist(weekend, stacked=True, bins=24, range=[0, 24], alpha=0.7, color=\"red\", label=\"weekend\")\n",
    "plt.legend()\n",
    "plt.xlim(0, 24)\n",
    "plt.show()"
   ]
  },
  {
   "cell_type": "markdown",
   "id": "58c7e61a",
   "metadata": {},
   "source": [
    "at the end of your Jupyter Notebook, create a markdown cell and insert the questions:\n",
    "- “Are there hours when the total number of commits was higher on weekends than on working days?” In your answer, put the top-4 examples."
   ]
  },
  {
   "cell_type": "markdown",
   "id": "823a4437",
   "metadata": {},
   "source": [
    "Answer: Yes, 11, 13, 22, 23."
   ]
  },
  {
   "cell_type": "code",
   "execution_count": 10,
   "id": "f789a3bc",
   "metadata": {},
   "outputs": [],
   "source": [
    "connection.close()"
   ]
  },
  {
   "cell_type": "code",
   "execution_count": null,
   "id": "1afc7051",
   "metadata": {},
   "outputs": [],
   "source": []
  }
 ],
 "metadata": {
  "kernelspec": {
   "display_name": "Python 3 (ipykernel)",
   "language": "python",
   "name": "python3"
  },
  "language_info": {
   "codemirror_mode": {
    "name": "ipython",
    "version": 3
   },
   "file_extension": ".py",
   "mimetype": "text/x-python",
   "name": "python",
   "nbconvert_exporter": "python",
   "pygments_lexer": "ipython3",
   "version": "3.7.8"
  }
 },
 "nbformat": 4,
 "nbformat_minor": 5
}
